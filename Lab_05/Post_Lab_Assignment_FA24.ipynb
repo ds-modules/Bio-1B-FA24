{
  "cells": [
    {
      "cell_type": "markdown",
      "id": "f711576b",
      "metadata": {
        "id": "f711576b"
      },
      "source": [
        "# Post-Lab Assignment: Bioindicators Analysis\n",
        "\n",
        "In this notebook, you will analyze creek metrics data to compare North and South Fork regions. You will create boxplots, perform randomization testing, and interpret the results.\n",
        "\n",
        "Make sure to answer all the questions in bCourses after running the code cells."
      ]
    },
    {
      "cell_type": "code",
      "execution_count": null,
      "id": "af27cadf",
      "metadata": {
        "id": "af27cadf"
      },
      "outputs": [],
      "source": [
        "# Import necessary libraries\n",
        "import pandas as pd\n",
        "import matplotlib.pyplot as plt\n",
        "import numpy as np\n",
        "\n",
        "# Load the creek metrics data\n",
        "data = pd.read_csv('post-lab_data_FA24.csv')\n",
        "\n",
        "# Display the first few rows of the dataset\n",
        "data.head()\n"
      ]
    },
    {
      "cell_type": "markdown",
      "id": "a9469f2c",
      "metadata": {
        "id": "a9469f2c"
      },
      "source": [
        "## Create Boxplots for Metrics\n",
        "\n",
        "Create boxplots omparing the North and South Forks for Richness, EPT, Filters, and Predator metrics."
      ]
    },
    {
      "cell_type": "code",
      "execution_count": null,
      "id": "92eae21b",
      "metadata": {
        "id": "92eae21b"
      },
      "outputs": [],
      "source": [
        "# List of metrics to plot (adjust as needed based on question variation)\n",
        "metric_to_plot = ['Richness']  # Change these metric as per the question\n",
        "\n",
        "# Create boxplots for each selected metric, comparing North and South Fork\n",
        "for metric in metric_to_plot:\n",
        "    data.boxplot(column=metric, by='Fork')\n",
        "    plt.title(f'Boxplot of {metric} by Fork')\n",
        "    plt.suptitle('')  # Remove automatic title\n",
        "    plt.xlabel('Fork')\n",
        "    plt.ylabel(metric)\n",
        "    plt.show()\n"
      ]
    },
    {
      "cell_type": "markdown",
      "id": "b94e2543",
      "metadata": {
        "id": "b94e2543"
      },
      "source": [
        "## Randomization Testing\n",
        "\n",
        "Perform randomization testing to assess whether the observed differences in different biodicator metrics are statistically significant."
      ]
    },
    {
      "cell_type": "code",
      "execution_count": null,
      "id": "69a82f77",
      "metadata": {
        "id": "69a82f77"
      },
      "outputs": [],
      "source": [
        "# Randomization testing on the FBI metric (change to other metrics as per question variation)\n",
        "\n",
        "# Function to perform a single randomization\n",
        "def randomization_test(data, metric, n_iterations=1000):\n",
        "    observed_difference = data.groupby('Fork')[metric].mean().diff().iloc[-1]\n",
        "    randomized_diffs = []\n",
        "\n",
        "    for _ in range(n_iterations):\n",
        "        # Shuffle the 'Fork' labels\n",
        "        shuffled = data.copy()\n",
        "        shuffled['Fork'] = np.random.permutation(shuffled['Fork'])\n",
        "        # Compute the difference between the means after shuffling\n",
        "        randomized_diff = shuffled.groupby('Fork')[metric].mean().diff().iloc[-1]\n",
        "        randomized_diffs.append(randomized_diff)\n",
        "\n",
        "    # Calculate the p-value (how often random difference exceeds observed difference)\n",
        "    p_value = np.mean(np.abs(randomized_diffs) >= np.abs(observed_difference))\n",
        "\n",
        "    # Plot the distribution of randomized differences\n",
        "    plt.hist(randomized_diffs, bins=30, alpha=0.7)\n",
        "    plt.axvline(observed_difference, color='red', linestyle='--', label=f'Observed Difference: {observed_difference:.4f}')\n",
        "    plt.xlabel('Difference in Means (Randomized)')\n",
        "    plt.ylabel('Frequency')\n",
        "    plt.title(f'Randomization Test for {metric}')\n",
        "    plt.legend()\n",
        "    plt.show()\n",
        "\n",
        "    return observed_difference, p_value\n",
        "\n",
        "# Perform the randomization test for FBI (or change the metric as needed)\n",
        "obs_diff, p_val = randomization_test(data, 'FBI')\n",
        "print(f\"Observed Difference: {obs_diff}\")\n",
        "print(f\"P-value: {p_val}\")\n"
      ]
    },
    {
      "cell_type": "markdown",
      "id": "6c4603dc",
      "metadata": {
        "id": "6c4603dc"
      },
      "source": [
        "## Writing a Results Section\n",
        "\n",
        "Carefull review figures you have generated. Write a proper interpretation of the results after generating boxplots and running the randomization test."
      ]
    }
  ],
  "metadata": {
    "colab": {
      "provenance": []
    },
    "language_info": {
      "name": "python"
    },
    "kernelspec": {
      "name": "python3",
      "display_name": "Python 3"
    }
  },
  "nbformat": 4,
  "nbformat_minor": 5
}